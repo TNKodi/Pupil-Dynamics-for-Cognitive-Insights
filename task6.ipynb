{
 "cells": [
  {
   "cell_type": "code",
   "execution_count": 1,
   "id": "a47fe463",
   "metadata": {},
   "outputs": [],
   "source": [
    "import numpy as np\n",
    "import pandas as pd"
   ]
  },
  {
   "cell_type": "code",
   "execution_count": 10,
   "id": "ece0fcb2",
   "metadata": {},
   "outputs": [],
   "source": [
    "df_bc = pd.read_csv('ensemble_avg_per_subject_bc.csv')\n",
    "\n",
    "features = []"
   ]
  },
  {
   "cell_type": "code",
   "execution_count": 11,
   "id": "4845c801",
   "metadata": {},
   "outputs": [],
   "source": [
    "for sid, df_subj in df_bc.groupby(\"subjectID\"):\n",
    "    df_subj = df_subj.sort_values(\"time\")\n",
    "    t = df_subj[\"time\"].values\n",
    "    y = df_subj[\"pupil_bc\"].values\n",
    "\n",
    "    # --- Peak amplitude and latency ---\n",
    "    peak_idx = np.argmax(y)\n",
    "    peak_amp = y[peak_idx]\n",
    "    latency_peak = t[peak_idx]\n",
    "\n",
    "    # --- Area under curve (0–2s) ---\n",
    "    mask_0_2 = (t >= 0) & (t <= 2)\n",
    "    auc_0_2 = np.trapezoid(y[mask_0_2], t[mask_0_2])\n",
    "\n",
    "    # --- Early slope (0–0.5s) ---\n",
    "    mask_0_05 = (t >= 0) & (t <= 0.5)\n",
    "    if mask_0_05.sum() >= 2:\n",
    "        slope, intercept = np.polyfit(t[mask_0_05], y[mask_0_05], 1)\n",
    "    else:\n",
    "        slope = np.nan\n",
    "\n",
    "    # --- Mean response in 1–2s window ---\n",
    "    mask_1_2 = (t >= 1.0) & (t <= 2.0)\n",
    "    mean_1_2 = y[mask_1_2].mean()\n",
    "\n",
    "    # --- Recovery time (first time after peak when response <= 0) ---\n",
    "    recovery_time = np.nan\n",
    "    for ti, yi in zip(t[peak_idx:], y[peak_idx:]):\n",
    "        if yi <= 0:\n",
    "            recovery_time = ti\n",
    "            break\n",
    "\n",
    "    # Collect features\n",
    "    features.append({\n",
    "        \"subjectID\": sid,\n",
    "        \"peak_amp\": peak_amp,\n",
    "        \"latency_peak\": latency_peak,\n",
    "        \"auc_0_2\": auc_0_2,\n",
    "        \"slope_0_0.5\": slope,\n",
    "        \"mean_1_2\": mean_1_2,\n",
    "        \"recovery_time\": recovery_time\n",
    "    })"
   ]
  },
  {
   "cell_type": "code",
   "execution_count": 12,
   "id": "d09ec01c",
   "metadata": {},
   "outputs": [
    {
     "name": "stdout",
     "output_type": "stream",
     "text": [
      "   subjectID  peak_amp  latency_peak   auc_0_2  slope_0_0.5  mean_1_2  \\\n",
      "0          1  1.094160      1.312718  0.615308     0.271465  0.441669   \n",
      "1          2  0.912698      1.411316  0.521367     0.223003  0.377486   \n",
      "2          3  0.972606      1.288936  0.540129     0.268325  0.406488   \n",
      "3          4  1.087494      1.388032  0.561525     0.258321  0.403172   \n",
      "4          5  1.073620      1.292809  0.650294     0.290882  0.441840   \n",
      "\n",
      "   recovery_time  \n",
      "0       2.191484  \n",
      "1       2.249656  \n",
      "2       2.239756  \n",
      "3       2.189638  \n",
      "4       2.271893  \n"
     ]
    }
   ],
   "source": [
    "feat_df = pd.DataFrame(features)\n",
    "feat_df.to_csv(\"subject_features_from_ensemble.csv\", index=False)\n",
    "\n",
    "print(feat_df.head())"
   ]
  },
  {
   "cell_type": "code",
   "execution_count": 14,
   "id": "cde5e435",
   "metadata": {},
   "outputs": [],
   "source": [
    "feet=pd.read_csv('subject_features_from_ensemble.csv')\n",
    "meta=pd.read_csv('pupil_raw_merged.csv')\n",
    "\n",
    "df=feet.merge(meta[['subjectID','class']].drop_duplicates(),on='subjectID',how='left')\n",
    "\n",
    "df.to_csv('final.csv',index=False)\n"
   ]
  }
 ],
 "metadata": {
  "kernelspec": {
   "display_name": ".venv",
   "language": "python",
   "name": "python3"
  },
  "language_info": {
   "codemirror_mode": {
    "name": "ipython",
    "version": 3
   },
   "file_extension": ".py",
   "mimetype": "text/x-python",
   "name": "python",
   "nbconvert_exporter": "python",
   "pygments_lexer": "ipython3",
   "version": "3.13.7"
  }
 },
 "nbformat": 4,
 "nbformat_minor": 5
}
