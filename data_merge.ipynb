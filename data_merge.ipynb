{
 "cells": [
  {
   "cell_type": "code",
   "execution_count": 1,
   "id": "9b127bbd",
   "metadata": {},
   "outputs": [],
   "source": [
    "import pandas as pd\n",
    "import numpy as np\n",
    "from pathlib import Path\n",
    "from glob import glob\n"
   ]
  },
  {
   "cell_type": "code",
   "execution_count": 2,
   "id": "09db768a",
   "metadata": {},
   "outputs": [],
   "source": [
    "data_path = Path(\"dataset\")"
   ]
  },
  {
   "cell_type": "code",
   "execution_count": 3,
   "id": "1bda3547",
   "metadata": {},
   "outputs": [
    {
     "name": "stdout",
     "output_type": "stream",
     "text": [
      "   subjectID    class\n",
      "0          1  Patient\n",
      "1          2  Patient\n",
      "2          3  Patient\n",
      "3          4  Patient\n",
      "4          5  Patient\n",
      "\n",
      "(100, 2)\n",
      "\n"
     ]
    }
   ],
   "source": [
    "metadeta = pd.read_csv(data_path / \"metadata.csv\")\n",
    "print(metadeta.head(), end=\"\\n\\n\")\n",
    "print(metadeta.shape, end=\"\\n\\n\")\n"
   ]
  },
  {
   "cell_type": "code",
   "execution_count": 4,
   "id": "f683d2ec",
   "metadata": {},
   "outputs": [],
   "source": [
    "assert \"subjectID\" in metadeta.columns and \"class\" in metadeta.columns, \"Metadata file must contain 'subjectID' and 'class' columns.\""
   ]
  },
  {
   "cell_type": "code",
   "execution_count": 5,
   "id": "7d9d3186",
   "metadata": {},
   "outputs": [
    {
     "name": "stdout",
     "output_type": "stream",
     "text": [
      "0\n"
     ]
    }
   ],
   "source": [
    "dupes=metadeta['subjectID'].duplicated().sum()\n",
    "print(dupes)"
   ]
  },
  {
   "cell_type": "code",
   "execution_count": 6,
   "id": "0fa98b28",
   "metadata": {},
   "outputs": [
    {
     "name": "stdout",
     "output_type": "stream",
     "text": [
      "100\n"
     ]
    }
   ],
   "source": [
    "subjectpath=sorted(glob(str(data_path / \"subject_*.csv\")))\n",
    "print(len(subjectpath))"
   ]
  },
  {
   "cell_type": "code",
   "execution_count": 7,
   "id": "0d882628",
   "metadata": {},
   "outputs": [],
   "source": [
    "required_cols = [\"trialID\", \"time\", \"stimulus\", \"pupil_diameter\"]\n",
    "frames = []\n",
    "\n",
    "for p in subjectpath:\n",
    "    df = pd.read_csv(p)\n",
    "    # Parse subjectID from filename: \"subject_97.csv\" -> 97\n",
    "    sid = int(Path(p).stem.split(\"_\")[1])\n",
    "    df[\"subjectID\"] = sid\n",
    "\n",
    "    # Ensure required columns exist (create empty if missing)\n",
    "    for col in required_cols:\n",
    "        if col not in df.columns:\n",
    "            df[col] = np.nan  # will handle later; this keeps schema consistent\n",
    "\n",
    "    # Normalize dtypes (keeps ML steps predictable)\n",
    "    df[\"trialID\"] = pd.to_numeric(df[\"trialID\"], errors=\"coerce\").astype(\"Int64\")\n",
    "    df[\"time\"] = pd.to_numeric(df[\"time\"], errors=\"coerce\")\n",
    "    df[\"pupil_diameter\"] = pd.to_numeric(df[\"pupil_diameter\"], errors=\"coerce\")\n",
    "    # leave 'stimulus' as-is (can be 'on'/'off' or 0/1); we’ll interpret later\n",
    "\n",
    "    frames.append(df[[\"subjectID\"] + required_cols])\n"
   ]
  },
  {
   "cell_type": "code",
   "execution_count": 8,
   "id": "c4bc33cd",
   "metadata": {},
   "outputs": [
    {
     "name": "stdout",
     "output_type": "stream",
     "text": [
      "Merged shape: (900302, 5)\n"
     ]
    },
    {
     "data": {
      "text/html": [
       "<div>\n",
       "<style scoped>\n",
       "    .dataframe tbody tr th:only-of-type {\n",
       "        vertical-align: middle;\n",
       "    }\n",
       "\n",
       "    .dataframe tbody tr th {\n",
       "        vertical-align: top;\n",
       "    }\n",
       "\n",
       "    .dataframe thead th {\n",
       "        text-align: right;\n",
       "    }\n",
       "</style>\n",
       "<table border=\"1\" class=\"dataframe\">\n",
       "  <thead>\n",
       "    <tr style=\"text-align: right;\">\n",
       "      <th></th>\n",
       "      <th>subjectID</th>\n",
       "      <th>trialID</th>\n",
       "      <th>time</th>\n",
       "      <th>stimulus</th>\n",
       "      <th>pupil_diameter</th>\n",
       "    </tr>\n",
       "  </thead>\n",
       "  <tbody>\n",
       "    <tr>\n",
       "      <th>0</th>\n",
       "      <td>1</td>\n",
       "      <td>1</td>\n",
       "      <td>0.010234</td>\n",
       "      <td>no_stimulus</td>\n",
       "      <td>1.883395</td>\n",
       "    </tr>\n",
       "    <tr>\n",
       "      <th>1</th>\n",
       "      <td>1</td>\n",
       "      <td>1</td>\n",
       "      <td>0.019125</td>\n",
       "      <td>no_stimulus</td>\n",
       "      <td>1.749996</td>\n",
       "    </tr>\n",
       "    <tr>\n",
       "      <th>2</th>\n",
       "      <td>1</td>\n",
       "      <td>1</td>\n",
       "      <td>0.028648</td>\n",
       "      <td>no_stimulus</td>\n",
       "      <td>1.736700</td>\n",
       "    </tr>\n",
       "    <tr>\n",
       "      <th>3</th>\n",
       "      <td>1</td>\n",
       "      <td>1</td>\n",
       "      <td>0.039063</td>\n",
       "      <td>no_stimulus</td>\n",
       "      <td>1.718723</td>\n",
       "    </tr>\n",
       "    <tr>\n",
       "      <th>4</th>\n",
       "      <td>1</td>\n",
       "      <td>1</td>\n",
       "      <td>0.049582</td>\n",
       "      <td>no_stimulus</td>\n",
       "      <td>1.702478</td>\n",
       "    </tr>\n",
       "  </tbody>\n",
       "</table>\n",
       "</div>"
      ],
      "text/plain": [
       "   subjectID  trialID      time     stimulus  pupil_diameter\n",
       "0          1        1  0.010234  no_stimulus        1.883395\n",
       "1          1        1  0.019125  no_stimulus        1.749996\n",
       "2          1        1  0.028648  no_stimulus        1.736700\n",
       "3          1        1  0.039063  no_stimulus        1.718723\n",
       "4          1        1  0.049582  no_stimulus        1.702478"
      ]
     },
     "execution_count": 8,
     "metadata": {},
     "output_type": "execute_result"
    }
   ],
   "source": [
    "raw_merged = pd.concat(frames, ignore_index=True)\n",
    "print(\"Merged shape:\", raw_merged.shape)\n",
    "raw_merged.head()\n"
   ]
  },
  {
   "cell_type": "code",
   "execution_count": 9,
   "id": "07297cd4",
   "metadata": {},
   "outputs": [
    {
     "name": "stdout",
     "output_type": "stream",
     "text": [
      "Rows with missing class: 0\n"
     ]
    }
   ],
   "source": [
    "merged_labeled = raw_merged.merge(metadeta, on=\"subjectID\", how=\"left\")\n",
    "\n",
    "# Quick checks\n",
    "missing_labels = merged_labeled[\"class\"].isna().sum()\n",
    "print(\"Rows with missing class:\", missing_labels)\n",
    "if missing_labels > 0:\n",
    "    print(\"subjectIDs with missing labels:\",\n",
    "          merged_labeled.loc[merged_labeled[\"class\"].isna(), \"subjectID\"].unique())\n"
   ]
  },
  {
   "cell_type": "code",
   "execution_count": 10,
   "id": "5fa0d49a",
   "metadata": {},
   "outputs": [
    {
     "name": "stdout",
     "output_type": "stream",
     "text": [
      "   subjectID  rows\n",
      "0          1  8136\n",
      "1          2  8901\n",
      "2          3  9429\n",
      "3          4  8637\n",
      "4          5  9631\n",
      "Class distribution:\n",
      " class\n",
      "Healthy    610854\n",
      "Patient    289448\n",
      "Name: count, dtype: int64\n",
      "Null fraction per column:\n",
      " subjectID         0.0\n",
      "trialID           0.0\n",
      "time              0.0\n",
      "stimulus          0.0\n",
      "pupil_diameter    0.0\n",
      "class             0.0\n",
      "dtype: float64\n"
     ]
    }
   ],
   "source": [
    "# Per-subject row counts\n",
    "rows_per_subject = merged_labeled.groupby(\"subjectID\").size().rename(\"rows\").reset_index()\n",
    "print(rows_per_subject.head())\n",
    "\n",
    "# Class distribution\n",
    "print(\"Class distribution:\\n\", merged_labeled[\"class\"].value_counts(dropna=False))\n",
    "\n",
    "# Quick null check\n",
    "null_summary = merged_labeled.isna().mean().sort_values(ascending=False)\n",
    "print(\"Null fraction per column:\\n\", null_summary)\n"
   ]
  },
  {
   "cell_type": "code",
   "execution_count": 11,
   "id": "574e0176",
   "metadata": {},
   "outputs": [
    {
     "name": "stdout",
     "output_type": "stream",
     "text": [
      "Saved CSV -> pupil_raw_merged.csv\n",
      "Saved Parquet -> pupil_raw_merged.parquet\n"
     ]
    }
   ],
   "source": [
    "out_csv =\"pupil_raw_merged.csv\"\n",
    "merged_labeled.to_csv(out_csv, index=False)\n",
    "print(\"Saved CSV ->\", out_csv)\n",
    "\n",
    "# Optional: Parquet (faster I/O, better types)\n",
    "try:\n",
    "    out_parquet = \"pupil_raw_merged.parquet\"\n",
    "    merged_labeled.to_parquet(out_parquet, index=False)\n",
    "    print(\"Saved Parquet ->\", out_parquet)\n",
    "except Exception as e:\n",
    "    print(\"Parquet save skipped (install pyarrow or fastparquet to enable):\", e)\n"
   ]
  }
 ],
 "metadata": {
  "kernelspec": {
   "display_name": ".venv",
   "language": "python",
   "name": "python3"
  },
  "language_info": {
   "codemirror_mode": {
    "name": "ipython",
    "version": 3
   },
   "file_extension": ".py",
   "mimetype": "text/x-python",
   "name": "python",
   "nbconvert_exporter": "python",
   "pygments_lexer": "ipython3",
   "version": "3.13.7"
  }
 },
 "nbformat": 4,
 "nbformat_minor": 5
}
